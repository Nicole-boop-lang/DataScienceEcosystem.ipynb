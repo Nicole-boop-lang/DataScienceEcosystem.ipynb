{
 "cells": [
  {
   "cell_type": "markdown",
   "id": "11f0ecda-3368-4f48-abd8-e3eafb34b0c7",
   "metadata": {},
   "source": [
    "# H1: Data Science Tools and Ecosystem"
   ]
  },
  {
   "cell_type": "markdown",
   "id": "6d3ece60-eef8-45e9-8314-ab4a79a0b6be",
   "metadata": {},
   "source": [
    "# In this notebook, Data Science Tools and Ecosystem are summarized."
   ]
  },
  {
   "cell_type": "markdown",
   "id": "d77ccf78-5781-4398-85ca-e5353df46808",
   "metadata": {},
   "source": [
    "**Objectives:**\n",
    "\n",
    "- List popular languages in Data Science\n",
    "- Commonly used libraries in Data Science\n",
    "- Data Science Tools\n",
    "- Examples of arithmetic expressions in Python"
   ]
  },
  {
   "cell_type": "markdown",
   "id": "0793e905-9d5b-44f3-8762-625b6a812dc2",
   "metadata": {
    "jp-MarkdownHeadingCollapsed": true
   },
   "source": [
    "# Some of the popular languages that Data Scientists use are:\n",
    "\n",
    "1. Python \n",
    "2. R\n",
    "3. SQL\n",
    "4. Java"
   ]
  },
  {
   "cell_type": "markdown",
   "id": "4631e071-014d-4dfd-a680-16f37abacda8",
   "metadata": {},
   "source": [
    "# Some of the commonly used libraries in data science include\n",
    "\n",
    "1. Scikit-learn\n",
    "2. NumPly\n",
    "3. Matplotlib\n",
    "4. Pandas"
   ]
  },
  {
   "cell_type": "markdown",
   "id": "a9666687-355a-42f9-84fe-01a58f97121f",
   "metadata": {},
   "source": [
    "| Data Science Tools |\n",
    "| ------------------ |\n",
    "| Jupyter Notebook   |\n",
    "| RStudio            |\n",
    "| KNIME              |"
   ]
  },
  {
   "cell_type": "markdown",
   "id": "35254d17-0780-4a31-8e01-bdfa07ee889c",
   "metadata": {},
   "source": [
    "### H3: Below are a few examples of evaluating arithmetic expressions in Python"
   ]
  },
  {
   "cell_type": "code",
   "execution_count": 8,
   "id": "348f4e61-a29b-49ec-9899-5df952f9b650",
   "metadata": {},
   "outputs": [
    {
     "data": {
      "text/plain": [
       "17"
      ]
     },
     "execution_count": 8,
     "metadata": {},
     "output_type": "execute_result"
    }
   ],
   "source": [
    "# Print an integer\n",
    "\n",
    "\"This is a simple arithmetic expression to multiply then add integers\"\n",
    "\n",
    "(3*4)+5"
   ]
  },
  {
   "cell_type": "code",
   "execution_count": 10,
   "id": "15b0b487-06f6-4ccc-b73b-295cbb1f42a9",
   "metadata": {},
   "outputs": [
    {
     "data": {
      "text/plain": [
       "3.3333333333333335"
      ]
     },
     "execution_count": 10,
     "metadata": {},
     "output_type": "execute_result"
    }
   ],
   "source": [
    "# Print an integer\n",
    "\n",
    "\"This will convert 200 minutes to hours by dividing by 60\"\n",
    "\n",
    "200/60"
   ]
  },
  {
   "cell_type": "markdown",
   "id": "0c3820d0-881e-48a0-b696-07788eeedae4",
   "metadata": {},
   "source": [
    "## H2: Author\n",
    "\n",
    "Franz Elliah Gragasin"
   ]
  },
  {
   "cell_type": "code",
   "execution_count": null,
   "id": "064954e6-d6be-41e0-bc5f-78b645a9bef7",
   "metadata": {},
   "outputs": [],
   "source": []
  }
 ],
 "metadata": {
  "kernelspec": {
   "display_name": "Python 3 (ipykernel)",
   "language": "python",
   "name": "python3"
  },
  "language_info": {
   "codemirror_mode": {
    "name": "ipython",
    "version": 3
   },
   "file_extension": ".py",
   "mimetype": "text/x-python",
   "name": "python",
   "nbconvert_exporter": "python",
   "pygments_lexer": "ipython3",
   "version": "3.12.8"
  }
 },
 "nbformat": 4,
 "nbformat_minor": 5
}
